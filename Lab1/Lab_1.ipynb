{
  "nbformat": 4,
  "nbformat_minor": 0,
  "metadata": {
    "kernelspec": {
      "display_name": "Python 3",
      "language": "python",
      "name": "python3"
    },
    "language_info": {
      "codemirror_mode": {
        "name": "ipython",
        "version": 3
      },
      "file_extension": ".py",
      "mimetype": "text/x-python",
      "name": "python",
      "nbconvert_exporter": "python",
      "pygments_lexer": "ipython3",
      "version": "3.7.0"
    },
    "colab": {
      "name": "Lab_1.ipynb",
      "provenance": [],
      "collapsed_sections": []
    }
  },
  "cells": [
    {
      "cell_type": "markdown",
      "metadata": {
        "id": "YPX82wvNpSQl",
        "colab_type": "text"
      },
      "source": [
        "# Zad 1"
      ]
    },
    {
      "cell_type": "code",
      "metadata": {
        "id": "JnGPI3hhpSQn",
        "colab_type": "code",
        "colab": {}
      },
      "source": [
        "from numpy import *\n",
        "import numpy as np\n",
        "import math\n",
        "from numpy.linalg import *\n",
        "\n",
        "k=1240*math.sqrt(7)\n",
        "\n",
        "m=4467\n",
        "l= 2j\n",
        "d = k+m\n",
        "c = d+l\n",
        "print(m,l,d,c)\n"
      ],
      "execution_count": 0,
      "outputs": []
    },
    {
      "cell_type": "markdown",
      "metadata": {
        "id": "o5sd0TDzpSQr",
        "colab_type": "text"
      },
      "source": [
        "# Zad 2"
      ]
    },
    {
      "cell_type": "code",
      "metadata": {
        "id": "mPtCf9FWpSQs",
        "colab_type": "code",
        "colab": {},
        "outputId": "3ae1dec1-03aa-492e-aabc-bfef294971ce"
      },
      "source": [
        "import math\n",
        "k=1240*math.sqrt(7)\n",
        "\n",
        "m=4467\n",
        "l= 2j\n",
        "d = k+m\n",
        "c = d+l\n",
        "print(round(d,3)) #zaokrąglenie do 3 miejsc po przecinku\n",
        "print(round(d,20)) #zaokrąglenie do 20 miejsc po przecinku"
      ],
      "execution_count": 0,
      "outputs": [
        {
          "output_type": "stream",
          "text": [
            "7747.732\n",
            "7747.731625720093\n"
          ],
          "name": "stdout"
        }
      ]
    },
    {
      "cell_type": "markdown",
      "metadata": {
        "id": "3zvf--MZpSQv",
        "colab_type": "text"
      },
      "source": [
        "# Zad 3"
      ]
    },
    {
      "cell_type": "code",
      "metadata": {
        "id": "C0suRHNLpSQv",
        "colab_type": "code",
        "colab": {},
        "outputId": "9e2970c8-5e74-4387-9f67-7c5b364ee02c"
      },
      "source": [
        "import math\n",
        "r=17\n",
        "h=33\n",
        "S=(2*math.pi*r*r) + (2*math.pi*r*h) #wzór na pole powierzchni walca\n",
        "print('Pole powierzchni walca: \\n',S)\n",
        "\n",
        "\n",
        "\n",
        "\n"
      ],
      "execution_count": 0,
      "outputs": [
        {
          "output_type": "stream",
          "text": [
            "Zadanie 3\n",
            "Pole powierzchni walca: \n",
            " 5340.707511102649\n"
          ],
          "name": "stdout"
        }
      ]
    },
    {
      "cell_type": "markdown",
      "metadata": {
        "id": "iHgp4PDYpSQy",
        "colab_type": "text"
      },
      "source": [
        "# Zad 5"
      ]
    },
    {
      "cell_type": "code",
      "metadata": {
        "id": "yp8HSzmzpSQz",
        "colab_type": "code",
        "colab": {},
        "outputId": "458e3f1a-4946-45dd-e506-873a63122566"
      },
      "source": [
        "import math\n",
        "#x1 = float(input(\" \"))\n",
        "#t = float(input(\" \"))\n",
        "#r = float(input(\" \"))\n",
        "x1 = 1\n",
        "t= 1\n",
        "r=1\n",
        "\n",
        "B=(x1+r)/(r*math.sin(2*x1)+3.3456)*(x1)**(t*r) #wyrażenie\n",
        "print(B,'Wynik wyrażenia')\n",
        "print('\\n')"
      ],
      "execution_count": 0,
      "outputs": [
        {
          "output_type": "stream",
          "text": [
            "0.4700465838237791 Wynik wyrażenia\n",
            "\n",
            "\n"
          ],
          "name": "stdout"
        }
      ]
    },
    {
      "cell_type": "markdown",
      "metadata": {
        "id": "mMhrwNH5pSQ3",
        "colab_type": "text"
      },
      "source": [
        "# Zad 6 "
      ]
    },
    {
      "cell_type": "code",
      "metadata": {
        "id": "ZYCo3wjppSQ3",
        "colab_type": "code",
        "colab": {},
        "outputId": "cd591e58-ec3f-4e4a-e2b9-afeba94cd969"
      },
      "source": [
        "from numpy import *\n",
        "import numpy as np\n",
        "import math\n",
        "from numpy.linalg import *\n",
        "a=math.sqrt(2)\n",
        "M = np.array([[a,1,-a],   #deklaracja macierzy\n",
        "     [0,1,1],\n",
        "     [-a,a,1]])\n",
        "\n",
        "print('\\n')\n",
        "print(\"Macierz:\\n {0}\".format(M))\n",
        "print('\\n')\n",
        "print(\"Macierz odwrotna: \\n\")\n",
        "M1=inv(M) # macierz odwrotna\n",
        "print(M1)\n",
        "\n",
        "print('\\n')\n",
        "print(\"Macierz transponowana: \\n\")\n",
        "Mt= transpose(M) #macierz transponowana\n",
        "print(M1)\n",
        "\n",
        "print('\\n')\n",
        "print(\"Wyznacznik macierzy: \\n\")\n",
        "detM = det(M) #wyznacznik macierzy\n",
        "print(detM)\n",
        "print('\\n')\n"
      ],
      "execution_count": 0,
      "outputs": [
        {
          "output_type": "stream",
          "text": [
            "\n",
            "\n",
            "Macierz:\n",
            " [[ 1.41421356  1.         -1.41421356]\n",
            " [ 0.          1.          1.        ]\n",
            " [-1.41421356  1.41421356  1.        ]]\n",
            "\n",
            "\n",
            "Macierz odwrotna: \n",
            "\n",
            "[[ 0.10355339  0.75       -0.60355339]\n",
            " [ 0.35355339  0.14644661  0.35355339]\n",
            " [-0.35355339  0.85355339 -0.35355339]]\n",
            "\n",
            "\n",
            "Macierz transponowana: \n",
            "\n",
            "[[ 0.10355339  0.75       -0.60355339]\n",
            " [ 0.35355339  0.14644661  0.35355339]\n",
            " [-0.35355339  0.85355339 -0.35355339]]\n",
            "\n",
            "\n",
            "Wyznacznik macierzy: \n",
            "\n",
            "-4.0\n",
            "\n",
            "\n"
          ],
          "name": "stdout"
        }
      ]
    },
    {
      "cell_type": "markdown",
      "metadata": {
        "id": "oPLEF0_ZpSQ6",
        "colab_type": "text"
      },
      "source": [
        "# Zad 7"
      ]
    },
    {
      "cell_type": "code",
      "metadata": {
        "id": "2r7u2UKxpSQ7",
        "colab_type": "code",
        "colab": {},
        "outputId": "1e74cbb7-b5fe-4358-f7de-92a5f152a61e"
      },
      "source": [
        "from numpy import *\n",
        "import numpy as np\n",
        "import math\n",
        "from numpy.linalg import *\n",
        "a=math.sqrt(2)\n",
        "M = np.array([[a,1,-a],   #deklaracja macierzy\n",
        "     [0,1,1],\n",
        "     [-a,a,1]])\n",
        "\n",
        "M11= M[0,0] #1. wiersz, 1. kolumna\n",
        "M33= M[2,2] #3. wiersz, 3. kolumna\n",
        "M22= M[2,1] #3. wiersz, 2. kolumna\n",
        "print(M11) \n",
        "print(M33)\n",
        "print(M22)\n",
        "\n",
        "\n",
        "w1=M[:,2] #3. kolumna\n",
        "w2=M[1,:] #2.wiersz\n",
        "print('3. kolumna:')\n",
        "print(w1)\n",
        "print('2. wiersz:')\n",
        "print(w2)\n",
        "print('\\n')"
      ],
      "execution_count": 0,
      "outputs": [
        {
          "output_type": "stream",
          "text": [
            "1.4142135623730951\n",
            "1.0\n",
            "1.4142135623730951\n",
            "3. kolumna:\n",
            "[-1.41421356  1.          1.        ]\n",
            "2. wiersz:\n",
            "[0. 1. 1.]\n",
            "\n",
            "\n"
          ],
          "name": "stdout"
        }
      ]
    },
    {
      "cell_type": "markdown",
      "metadata": {
        "id": "7WjCRTMUpSRA",
        "colab_type": "text"
      },
      "source": [
        "# Zad 8"
      ]
    },
    {
      "cell_type": "code",
      "metadata": {
        "id": "-aJNe13OpSRB",
        "colab_type": "code",
        "colab": {},
        "outputId": "976a9b46-beeb-4d01-e4cc-9403572d8cc7"
      },
      "source": [
        "coeff = [1,-7,3,43,-28,-60] #obliczanie pierwiastków wielomiau\n",
        "print(\"Watości pierwiastków wielomianu: \")\n",
        "print(np.roots(coeff))\n",
        "print('\\n')\n",
        "def funkcja(x):\n",
        "    return x**5 - 7*x**4 + 3*x**3 + 43*x**2 -28*x - 60\n",
        "print(funkcja(5))\n",
        "print(funkcja(3))\n",
        "print(funkcja(2))\n",
        "print(funkcja(-2))\n",
        "print(funkcja(-1))"
      ],
      "execution_count": 0,
      "outputs": [
        {
          "output_type": "stream",
          "text": [
            "Watości pierwiastków wielomianu: \n",
            "[ 5.  3.  2. -2. -1.]\n",
            "\n",
            "\n",
            "0\n",
            "0\n",
            "0\n",
            "0\n",
            "0\n"
          ],
          "name": "stdout"
        }
      ]
    },
    {
      "cell_type": "markdown",
      "metadata": {
        "id": "7PWF6YZipSRD",
        "colab_type": "text"
      },
      "source": [
        "# Zad 9"
      ]
    },
    {
      "cell_type": "code",
      "metadata": {
        "id": "TZniKsfgpSRE",
        "colab_type": "code",
        "colab": {},
        "outputId": "873d7f92-dce6-46e1-c91f-2d61428d7b1c"
      },
      "source": [
        "from numpy import *\n",
        "import numpy as np\n",
        "import math\n",
        "from numpy.linalg import *\n",
        "print(np.linspace(1,10,num=20,retstep=True)) #generowanie ciągu\n",
        "print('\\n')\n"
      ],
      "execution_count": 0,
      "outputs": [
        {
          "output_type": "stream",
          "text": [
            "(array([ 1.        ,  1.47368421,  1.94736842,  2.42105263,  2.89473684,\n",
            "        3.36842105,  3.84210526,  4.31578947,  4.78947368,  5.26315789,\n",
            "        5.73684211,  6.21052632,  6.68421053,  7.15789474,  7.63157895,\n",
            "        8.10526316,  8.57894737,  9.05263158,  9.52631579, 10.        ]), 0.47368421052631576)\n",
            "\n",
            "\n"
          ],
          "name": "stdout"
        }
      ]
    },
    {
      "cell_type": "markdown",
      "metadata": {
        "id": "cGI2fzRNpSRH",
        "colab_type": "text"
      },
      "source": [
        "# Zad 10"
      ]
    },
    {
      "cell_type": "code",
      "metadata": {
        "id": "f6NxpD_PpSRH",
        "colab_type": "code",
        "colab": {},
        "outputId": "de39d12f-892e-459e-b0cb-f8e760f5f576"
      },
      "source": [
        "import math\n",
        "import numpy as np\n",
        "import matplotlib.pyplot as plt\n",
        "\n",
        "def funkcja(x):\n",
        "    return x**3 - 3*x\n",
        "\n",
        "#wykres \n",
        "def wykres(x):\n",
        "    y = []\n",
        "    for i in x:\n",
        "        y.append(funkcja(i))\n",
        "    plt.plot(x, y)\n",
        "    plt.title('Wykres')\n",
        "    plt.xlabel('x')\n",
        "    plt.ylabel('y')\n",
        "    plt.show()\n",
        "\n",
        "print(\"Pierwszy wykres:\")\n",
        "wykres(np.linspace(-1, 1))\n",
        "print(\"Drugi wykres:\")\n",
        "wykres(np.linspace(-5, 5))\n",
        "print(\"Trzeci wykres:\")\n",
        "wykres(np.linspace(0, 5))\n",
        "print('\\n')\n",
        " "
      ],
      "execution_count": 0,
      "outputs": [
        {
          "output_type": "stream",
          "text": [
            "Pierwszy wykres:\n"
          ],
          "name": "stdout"
        },
        {
          "output_type": "display_data",
          "data": {
            "image/png": "[encoded data removed]",
            "text/plain": [
              "<Figure size 432x288 with 1 Axes>"
            ]
          },
          "metadata": {
            "tags": [],
            "needs_background": "light"
          }
        },
        {
          "output_type": "stream",
          "text": [
            "Drugi wykres:\n"
          ],
          "name": "stdout"
        },
        {
          "output_type": "display_data",
          "data": {
            "image/png": "[encoded data removed]",
            "text/plain": [
              "<Figure size 432x288 with 1 Axes>"
            ]
          },
          "metadata": {
            "tags": [],
            "needs_background": "light"
          }
        },
        {
          "output_type": "stream",
          "text": [
            "Trzeci wykres:\n"
          ],
          "name": "stdout"
        },
        {
          "output_type": "display_data",
          "data": {
            "image/png": "[encoded data removed]",
            "text/plain": [
              "<Figure size 432x288 with 1 Axes>"
            ]
          },
          "metadata": {
            "tags": [],
            "needs_background": "light"
          }
        },
        {
          "output_type": "stream",
          "text": [
            "\n",
            "\n"
          ],
          "name": "stdout"
        }
      ]
    },
    {
      "cell_type": "markdown",
      "metadata": {
        "id": "MjqeNZ6SpSRM",
        "colab_type": "text"
      },
      "source": [
        "# Zad 11"
      ]
    },
    {
      "cell_type": "code",
      "metadata": {
        "id": "SbOS0VXxpSRN",
        "colab_type": "code",
        "colab": {},
        "outputId": "89dfb10f-6866-427a-8076-da288029035b"
      },
      "source": [
        "import math\n",
        "import numpy as np\n",
        "import matplotlib.pyplot as plt\n",
        "\n",
        "#Zadanie11\n",
        "m = 2.5\n",
        "v = 60\n",
        "Q = (m*v**2)/2\n",
        "print(\"Wynik w J: %f \" %Q)\n",
        "print(\"Wynik w kcal: %f \" %(Q/4.1868))\n",
        "\n",
        "#funkcja\n",
        "def heat1(x):\n",
        "    return (3 * x ** 2) / 2\n",
        "\n",
        "#wykres lin\n",
        "def lin(x):\n",
        "    y = []\n",
        "    for i in x:\n",
        "        y.append(heat1(i))\n",
        "    plt.plot(x, y)\n",
        "    plt.title('Wykres liniowy')\n",
        "    plt.xlabel('x')\n",
        "    plt.ylabel('y')\n",
        "    plt.show()\n",
        "lin(np.linspace(200, 0))\n",
        "\n",
        "#wykres log\n",
        "def log(x):\n",
        "    y = []\n",
        "\n",
        "    for i in x:\n",
        "        y.append(heat1(i))\n",
        "    plt.semilogy(x, y)\n",
        "    plt.title('Wykres logatyminny')\n",
        "    plt.xlabel('x')\n",
        "    plt.ylabel('y')\n",
        "    plt.show()\n",
        "\n",
        "log(np.linspace(200, 0))\n",
        "\n",
        "\n"
      ],
      "execution_count": 0,
      "outputs": [
        {
          "output_type": "stream",
          "text": [
            "Wynik w J: 4500.000000 \n",
            "Wynik w kcal: 1074.806535 \n"
          ],
          "name": "stdout"
        },
        {
          "output_type": "display_data",
          "data": {
            "image/png": "[encoded data removed]",
            "text/plain": [
              "<Figure size 432x288 with 1 Axes>"
            ]
          },
          "metadata": {
            "tags": [],
            "needs_background": "light"
          }
        },
        {
          "output_type": "display_data",
          "data": {
            "image/png": "[encoded data removed]",
            "text/plain": [
              "<Figure size 432x288 with 1 Axes>"
            ]
          },
          "metadata": {
            "tags": [],
            "needs_background": "light"
          }
        }
      ]
    },
    {
      "cell_type": "code",
      "metadata": {
        "id": "VgUlwH20pSRU",
        "colab_type": "code",
        "colab": {}
      },
      "source": [
        ""
      ],
      "execution_count": 0,
      "outputs": []
    }
  ]
}