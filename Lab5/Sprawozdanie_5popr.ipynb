{
 "cells": [
  {
   "cell_type": "code",
   "execution_count": 7,
   "metadata": {},
   "outputs": [],
   "source": [
    "import numpy as np\n",
    "import math\n",
    "import matplotlib.pyplot as plt\n",
    "import time\n",
    "import functools\n",
    "import scipy\n",
    "import scipy.linalg as lin\n",
    "from scipy.linalg import hilbert\n",
    "from scipy.sparse.linalg import gmres\n",
    "from scipy.sparse.linalg import bicg\n",
    "from scipy.linalg import solve_triangular\n",
    "from numpy.linalg import inv as inv"
   ]
  },
  {
   "cell_type": "markdown",
   "metadata": {},
   "source": [
    "### Zadanie 1"
   ]
  },
  {
   "cell_type": "code",
   "execution_count": 8,
   "metadata": {},
   "outputs": [
    {
     "name": "stdout",
     "output_type": "stream",
     "text": [
      "40002.000074915224\n",
      "[[ 10001. -10000.]\n",
      " [-10000.  10000.]]\n",
      "[[1.]\n",
      " [1.]]\n",
      "[[2.]\n",
      " [0.]]\n"
     ]
    }
   ],
   "source": [
    "a = np.array([[1, 1],[1, 1.0001]])\n",
    "print(np.linalg.cond(a))\n",
    "a_inv = np.linalg.inv(a)\n",
    "\n",
    "b1 = np.array([[2],[2.0001]])\n",
    "b2 = np.array([[2],[2]])\n",
    "x1 = np.dot(a_inv,b1)\n",
    "x2 = np.dot(a_inv,b2)\n",
    "\n",
    "print(a_inv)\n",
    "print(x1)\n",
    "print(x2)"
   ]
  },
  {
   "cell_type": "markdown",
   "metadata": {},
   "source": [
    "Duża zmiana rozwiązania przy małej zmianie wektora prawych stron.\n",
    "Mała zmiana wartości współczynników może znacząco wpłynąć na wynik."
   ]
  },
  {
   "cell_type": "markdown",
   "metadata": {},
   "source": [
    "### Zadanie 2"
   ]
  },
  {
   "cell_type": "code",
   "execution_count": 9,
   "metadata": {},
   "outputs": [
    {
     "name": "stdout",
     "output_type": "stream",
     "text": [
      "[[1.         0.5        0.33333333 0.25       0.2        0.16666667\n",
      "  0.14285714 0.125     ]\n",
      " [0.5        0.33333333 0.25       0.2        0.16666667 0.14285714\n",
      "  0.125      0.11111111]\n",
      " [0.33333333 0.25       0.2        0.16666667 0.14285714 0.125\n",
      "  0.11111111 0.1       ]\n",
      " [0.25       0.2        0.16666667 0.14285714 0.125      0.11111111\n",
      "  0.1        0.09090909]\n",
      " [0.2        0.16666667 0.14285714 0.125      0.11111111 0.1\n",
      "  0.09090909 0.08333333]\n",
      " [0.16666667 0.14285714 0.125      0.11111111 0.1        0.09090909\n",
      "  0.08333333 0.07692308]\n",
      " [0.14285714 0.125      0.11111111 0.1        0.09090909 0.08333333\n",
      "  0.07692308 0.07142857]\n",
      " [0.125      0.11111111 0.1        0.09090909 0.08333333 0.07692308\n",
      "  0.07142857 0.06666667]]\n",
      "Wspolczynnik uwarunkowania z normy wierszowej: \n",
      "33872789109.75766\n",
      "Wspolczynnik uwarunkowania z normy wierszowej: \n",
      "33872789110.107353\n",
      "Wspolczynnik uwarunkowania z normy wierszowej: \n",
      "15257575566.627958\n"
     ]
    }
   ],
   "source": [
    "H = hilbert(8)\n",
    "print(H)\n",
    "\n",
    "wierszowa = np.linalg.cond(H, np.inf)\n",
    "kolumnowa = np.linalg.cond(H,1)\n",
    "spektralna = np.linalg.cond(H,2)\n",
    "\n",
    "print('Wspolczynnik uwarunkowania z normy wierszowej: ')\n",
    "print(wierszowa)\n",
    "print('Wspolczynnik uwarunkowania z normy wierszowej: ')\n",
    "print(kolumnowa)\n",
    "print('Wspolczynnik uwarunkowania z normy wierszowej: ')\n",
    "print(spektralna)\n"
   ]
  },
  {
   "cell_type": "markdown",
   "metadata": {},
   "source": [
    "Współczynniki uwarunkowania są bardzo wysokie - macierz Hilberta jest źle uwarunkowana."
   ]
  },
  {
   "cell_type": "markdown",
   "metadata": {},
   "source": [
    "### Zadanie 3"
   ]
  },
  {
   "cell_type": "code",
   "execution_count": 52,
   "metadata": {},
   "outputs": [
    {
     "name": "stdout",
     "output_type": "stream",
     "text": [
      "Średni czas:\n",
      "solve:  3.6342144012451174e-05\n",
      "QR:  0.00018905162811279298\n",
      "lstsq:  0.00012175798416137695\n",
      "\n",
      "\n",
      "Residuum: \n",
      "solve:  3.325692481969284e-15\n",
      "QR:  3.5288897716431816e-15\n",
      "lstsq:  1.2378022087384646e-14\n"
     ]
    }
   ],
   "source": [
    "n = 20\n",
    "t = np.transpose(np.linspace(0, 1, n))\n",
    "b = np.transpose([math.cos(4*x) for x in t])\n",
    "A = np.fliplr(np.vander(t, n))\n",
    "\n",
    "#print(\"A:\\n\",A)\n",
    "solvetime = []\n",
    "QRtime = []\n",
    "lstsqtime = []\n",
    "it = 100\n",
    "for i in range (0, it):\n",
    "    start=time.time()\n",
    "    x1=np.linalg.solve(A,b)\n",
    "    end=time.time()\n",
    "    solvetime.append(end-start)\n",
    "\n",
    "    start=time.time()\n",
    "    q,Ar=np.linalg.qr(A)\n",
    "    x2 = solve_triangular(Ar, np.transpose(q)@b)\n",
    "    end=time.time()\n",
    "    QRtime.append(end-start)\n",
    "\n",
    "    start=time.time()\n",
    "    x3,_,_,_=np.linalg.lstsq(A,b,None)\n",
    "    end=time.time()\n",
    "    lstsqtime.append(end-start)\n",
    "\n",
    "print(\"Średni czas:\")\n",
    "solvetimeavg = functools.reduce(lambda x,y: x+y, solvetime)/it\n",
    "print(\"solve: \", solvetimeavg)\n",
    "qrtimeavg = functools.reduce(lambda x,y: x+y, QRtime)/it\n",
    "print(\"QR: \", qrtimeavg)\n",
    "lstsqtimeavg = functools.reduce(lambda x,y: x+y, lstsqtime)/it\n",
    "print(\"lstsq: \", lstsqtimeavg)\n",
    "print(\"\\n\")\n",
    "\n",
    "print(\"Residuum: \")\n",
    "residuum_solve = abs(np.linalg.norm(b - A@x1))\n",
    "print(\"solve: \", residuum_solve)\n",
    "residuum_qr = abs(np.linalg.norm(b - A@x2))\n",
    "print(\"QR: \", residuum_qr)\n",
    "residuum_lstsq = abs(np.linalg.norm(b - A@x3))\n",
    "print(\"lstsq: \", residuum_lstsq)"
   ]
  },
  {
   "cell_type": "markdown",
   "metadata": {},
   "source": [
    "### Zadanie 4"
   ]
  },
  {
   "cell_type": "code",
   "execution_count": 56,
   "metadata": {},
   "outputs": [
    {
     "data": {
      "image/png": "[encoded data removed]",
      "text/plain": [
       "<Figure size 360x360 with 2 Axes>"
      ]
     },
     "metadata": {
      "needs_background": "light"
     },
     "output_type": "display_data"
    }
   ],
   "source": [
    "def macierzA(t):\n",
    "    A = np.ones((500, 500))\n",
    "    for i in range(0, 500):\n",
    "        j = 0\n",
    "        while(j < i):\n",
    "            a = np.random.uniform(-1,1)\n",
    "            if (abs(A[i][j]) > t):\n",
    "                A[i][j]=a\n",
    "                A[j][i]=a\n",
    "            j += 1\n",
    "    return A\n",
    "\n",
    "b = np.ones((500,))\n",
    "for i in range(0,500):\n",
    "    b[i] = np.random.uniform(-1.0, 1.0)\n",
    "    \n",
    "tau = [0.01, 0.05, 0.1, 0.2, 0.5, 0.75]\n",
    "wsp_uwar = []\n",
    "\n",
    "Solve = []\n",
    "Bicg = []\n",
    "Gmers = []\n",
    "solvetime = []\n",
    "bicgtime = []\n",
    "gmerstime = []\n",
    "for t in tau:\n",
    "    A = macierzA(t)\n",
    "    wsp_uwar.append(np.linalg.cond(A)) \n",
    "    start = time.time()\n",
    "    x1 = np.linalg.solve(A,b)\n",
    "    end = time.time()\n",
    "    Solve.append(np.linalg.norm(b - A@x1))\n",
    "    solvetime.append(end - start)\n",
    "    \n",
    "    Acsr = scipy.sparse.csr_matrix(A)\n",
    "    start = time.time()\n",
    "    x2, _ = bicg(Acsr, b)\n",
    "    end = time.time()\n",
    "    Bicg.append(np.linalg.norm(b - A@x2))\n",
    "    bicgtime.append(end - start)\n",
    "    \n",
    "    start = time.time()\n",
    "    x3, _ = scipy.sparse.linalg.gmres(Acsr, b)\n",
    "    end = time.time()\n",
    "    Gmers.append(np.linalg.norm(b - A@x3))\n",
    "    gmerstime.append(end - start)\n",
    "\n",
    "#Solve\n",
    "plt.figure(figsize=(5,5))\n",
    "plt.subplot(2, 1, 1)\n",
    "plt.plot(wsp_uwar, res_solve, \"o\", label=\"residuum\")   \n",
    "plt.xlabel(\"Współczynnik uwarunkowania\")\n",
    "plt.ylabel(\"Residuum\")\n",
    "plt.grid(True)\n",
    "plt.legend()\n",
    "\n",
    "plt.subplot(2, 1, 2)\n",
    "plt.plot(wsp_uwar, solvetime, \"o\", label=\"czas wykonania\")\n",
    "plt.xlabel(\"Współczynnik uwarunkowania\")\n",
    "plt.ylabel(\"Czas wykonania [s]\")\n",
    "plt.legend()\n",
    "plt.grid(True)mers\n",
    "plt.show()\n",
    "\n"
   ]
  },
  {
   "cell_type": "code",
   "execution_count": 59,
   "metadata": {},
   "outputs": [
    {
     "data": {
      "image/png": "[encoded data removed]",
      "text/plain": [
       "<Figure size 360x360 with 2 Axes>"
      ]
     },
     "metadata": {
      "needs_background": "light"
     },
     "output_type": "display_data"
    }
   ],
   "source": [
    "#Bigc\n",
    "plt.figure(figsize=(5,5))\n",
    "plt.subplot(2, 1, 1)\n",
    "plt.plot(wsp_uwar, bicgtime, \"o\", label=\"residuum\")   \n",
    "plt.xlabel(\"Współczynnik uwarunkowania\")\n",
    "plt.ylabel(\"Residuum\")\n",
    "plt.grid(True)\n",
    "plt.legend()\n",
    "\n",
    "plt.subplot(2, 1, 2)\n",
    "plt.plot(wsp_uwar, bicgtime, \"o\", label=\"czas wykonania\")\n",
    "plt.xlabel(\"Współczynnik uwarunkowania\")\n",
    "plt.ylabel(\"Czas wykonania [s]\")\n",
    "plt.legend()\n",
    "plt.grid(True)\n",
    "plt.show()"
   ]
  },
  {
   "cell_type": "code",
   "execution_count": 60,
   "metadata": {},
   "outputs": [
    {
     "data": {
      "image/png": "[encoded data removed]",
      "text/plain": [
       "<Figure size 360x360 with 2 Axes>"
      ]
     },
     "metadata": {
      "needs_background": "light"
     },
     "output_type": "display_data"
    }
   ],
   "source": [
    "#Gmers\n",
    "plt.figure(figsize=(5,5))\n",
    "plt.subplot(2, 1, 1)\n",
    "plt.plot(wsp_uwar, res_gmers, \"o\", label=\"residuum\")   \n",
    "plt.xlabel(\"Współczynnik uwarunkowania\")\n",
    "plt.ylabel(\"Residuum\")\n",
    "plt.grid(True)\n",
    "plt.legend()\n",
    "\n",
    "plt.subplot(2, 1, 2)\n",
    "plt.plot(wsp_uwar, czasy_gmers, \"o\", label=\"czas wykonania\")\n",
    "plt.xlabel(\"Współczynnik uwarunkowania\")\n",
    "plt.ylabel(\"Czas wykonania [s]\")\n",
    "plt.legend()\n",
    "plt.grid(True)\n",
    "plt.show()"
   ]
  },
  {
   "cell_type": "markdown",
   "metadata": {},
   "source": [
    "Im wyższy współczynnik uwarunkowania macierzy, tym mniejsza jest dokładność wyznaczania rozwiązań układów równań.\n",
    "Im rzadsza jest macierz, tym wyższy współczynnik uwarunkowania.\n"
   ]
  },
  {
   "cell_type": "markdown",
   "metadata": {},
   "source": [
    "### Zadanie 5 "
   ]
  },
  {
   "cell_type": "code",
   "execution_count": 69,
   "metadata": {},
   "outputs": [
    {
     "name": "stdout",
     "output_type": "stream",
     "text": [
      "Gauss-Seidel:\n",
      " [-18.15384615 -19.76923077   6.07692308]\n",
      "Solve:\n",
      " [-18.15384615 -19.76923077   6.07692308] \n",
      "\n",
      "Residuum Solve:  27.51933155924132\n",
      "Residuum Gaussa-Seidela:  27.51933155932906\n",
      "\n",
      "\n",
      "Solve:\n",
      " [ 0.25 -0.75  0.75] \n",
      "\n",
      "Za duży promień spektralny\n",
      "Gauss-Seidel:\n",
      " -1 \n",
      "\n"
     ]
    }
   ],
   "source": [
    "def ldu(macierz):\n",
    "    L=[[0 for col in range(np.shape(macierz)[0])] for row in range(np.shape(macierz)[0])]\n",
    "    D=[[0 for col in range(np.shape(macierz)[0])] for row in range(np.shape(macierz)[0])]\n",
    "    U=[[0 for col in range(np.shape(macierz)[0])] for row in range(np.shape(macierz)[0])]\n",
    "    for i in range (np.shape(macierz)[0]):\n",
    "        for j in range (np.shape(macierz)[0]):\n",
    "            if(i>j):\n",
    "                L[i][j]=macierz[i][j]\n",
    "            elif(i==j):\n",
    "                D[i][j]=macierz[i][j]\n",
    "            else:\n",
    "                U[i][j]=macierz[i][j]\n",
    "    return L,D,U\n",
    "\n",
    "def gauss(macierz,b,e):\n",
    "    L,D,U=ldu(macierz)\n",
    "    m=np.multiply(np.matmul(lin.inv(np.add(L,D)),U),-1)\n",
    "    ev=np.linalg.eigvals(m)\n",
    "    for r in ev:\n",
    "        r=abs(r)\n",
    "    promien=np.amax(ev)\n",
    "    if(promien>=1):\n",
    "        print(\"Za duży promień spektralny\")\n",
    "        return -1\n",
    "    x=[0]*np.shape(macierz)[0]\n",
    "    x0=np.subtract(np.matmul(lin.inv(np.add(L,D)),b),np.matmul(np.matmul(lin.inv(np.add(L,D)),U),x))\n",
    "    while(lin.norm(np.subtract(x0,x),1)>e):\n",
    "        x=x0\n",
    "        x0=np.subtract(np.matmul(lin.inv(np.add(L,D)),b),np.matmul(np.matmul(lin.inv(np.add(L,D)),U),x))\n",
    "    return x0\n",
    "\n",
    "A=[[5,-3,6],[0,2,7],[-1,2,5]]\n",
    "b=[5,3,9]\n",
    "gs=gauss(A,b,1e-10)\n",
    "print(\"Gauss-Seidel:\\n\",gs)\n",
    "print(\"Solve:\\n\",np.linalg.solve(A,b),\"\\n\")\n",
    "print(\"Residuum Solve: \",lin.norm(np.linalg.solve(A,b),2))\n",
    "print(\"Residuum Gaussa-Seidela: \",lin.norm(gs,2))\n",
    "print(\"\\n\")\n",
    "\n",
    "\n",
    "\n",
    "A=[[1,2,3],[2,1,3],[3,2,1]]\n",
    "b=[1,2,0]\n",
    "print(\"Solve:\\n\",np.linalg.solve(A,b),\"\\n\")\n",
    "print(\"Gauss-Seidel:\\n\",gauss(A,b,1e-9),\"\\n\")\n"
   ]
  },
  {
   "cell_type": "code",
   "execution_count": null,
   "metadata": {},
   "outputs": [],
   "source": []
  }
 ],
 "metadata": {
  "kernelspec": {
   "display_name": "Python 3",
   "language": "python",
   "name": "python3"
  },
  "language_info": {
   "codemirror_mode": {
    "name": "ipython",
    "version": 3
   },
   "file_extension": ".py",
   "mimetype": "text/x-python",
   "name": "python",
   "nbconvert_exporter": "python",
   "pygments_lexer": "ipython3",
   "version": "3.7.0"
  }
 },
 "nbformat": 4,
 "nbformat_minor": 2
}
