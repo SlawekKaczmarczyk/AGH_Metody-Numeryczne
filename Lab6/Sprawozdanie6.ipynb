{
 "cells": [
  {
   "cell_type": "markdown",
   "metadata": {},
   "source": [
    "### Zadanie 1 "
   ]
  },
  {
   "cell_type": "code",
   "execution_count": 23,
   "metadata": {},
   "outputs": [
    {
     "name": "stdout",
     "output_type": "stream",
     "text": [
      "Metoda analityczna:  0.43233235838169365\n",
      "Metoda prostokątów:  0.36787944117144233\n",
      "Metoda trapezów:  0.5676676416183064\n",
      "Metoda Simpsona:  0.47958726906593463\n",
      "Metoda zl trap:  0.4337725064184668\n",
      "Metoda zl Simpsona:  0.4368437743885901\n",
      "Metoda Romberga:  0.43233235838169437\n",
      "Metoda quad:  0.4323323583816936\n",
      "\n",
      "Różnice: \n",
      "\n",
      "Prostokątów: 0.06445291721025131\n",
      "Trapezów: 0.13533528323661276\n",
      "Simpsona: 0.04725491068424098\n",
      "Złożona trapezów: 0.00144014803677317\n",
      "Złożona Simpsona: 0.004511416006896474\n",
      "Romberg:  7.216449660063518e-16\n",
      "Quad: 5.551115123125783e-17\n"
     ]
    }
   ],
   "source": [
    "import math\n",
    "import scipy.integrate as scint\n",
    "import numpy as np\n",
    "from scipy import integrate\n",
    "from scipy.integrate import quad\n",
    "from scipy import integrate\n",
    "from scipy.special import erf\n",
    "from scipy.integrate import simps\n",
    "\n",
    "\n",
    "\n",
    "x = np.linspace(0,1,100)\n",
    "\n",
    "def f(x):\n",
    "    return math.e**(-2*x)\n",
    "\n",
    "#metoda analityczna\n",
    "def analityczna(f):\n",
    "    return -1/2*math.e**(-2)+1/2\n",
    "\n",
    "\n",
    "meta= analityczna(f)\n",
    "print(\"Metoda analityczna: \",meta)\n",
    "\n",
    "#metoda prostokątów\n",
    "def prostokatow(a,b,f):\n",
    "    return(b-a)*f((a+b)/2)\n",
    "\n",
    "metp = prostokatow(0,1,f)\n",
    "print(\"Metoda prostokątów: \",metp)\n",
    "\n",
    "\n",
    "#metoda trapezów\n",
    "def trapezow(a,b,f):\n",
    "    return 1/2*(b-a)*(f(a)+f(b))\n",
    "\n",
    "mett = trapezow(0,1,f)\n",
    "print(\"Metoda trapezów: \",mett)\n",
    "\n",
    "\n",
    "#metoda Simpsona\n",
    "def simpson(a,b,n,f):\n",
    "    h=(b-a)/n \n",
    "    wynik=0\n",
    "    y = 0\n",
    "    for i in range(0,n):\n",
    "        x = a +(i+1)*h\n",
    "        y += f(x-h/2)\n",
    "        if(i<n):\n",
    "            wynik += f(x)\n",
    "    wynik = h/6*(f(a)+4*y+2*wynik+f(b))\n",
    "    return wynik\n",
    "mets = simpson(0,1,1,f)\n",
    "print(\"Metoda Simpsona: \",mets)\n",
    "\n",
    "\n",
    "#złożony wzór trapezów(10 podprzedziałów)\n",
    "def zloz_trapez(a,b,n,f):\n",
    "    h=(b-a)/n\n",
    "    wynik = 0\n",
    "    for i in range(0,n):\n",
    "        wynik += 1/2*h*(f(a+(i)*h)+f(a+(i+1)*h))    \n",
    "    return wynik\n",
    "metzt=zloz_trapez(0,1,10,f)\n",
    "print(\"Metoda zl trap: \",metzt)\n",
    "\n",
    "\n",
    "#metoda złożona Simpsona(zmieniona ilość przedziałów na 10)\n",
    "def zl_Simpson(a,b,n,f):\n",
    "    h=(b-a)/n \n",
    "    wynik=0\n",
    "    y = 0\n",
    "    for i in range(0,n):\n",
    "        x = a +(i+1)*h\n",
    "        y += f(x-h/2)\n",
    "        if(i<n):\n",
    "            wynik += f(x)\n",
    "    wynik = h/6*(f(a)+4*y+2*wynik+f(b))\n",
    "    return wynik\n",
    "metzs = zl_Simpson(0,1,10,f)\n",
    "print(\"Metoda zl Simpsona: \",metzs)\n",
    "\n",
    "#Metoda Romberga\n",
    "wynik = integrate.romberg(f, 0, 1, show=False)\n",
    "print(\"Metoda Romberga: \",wynik)\n",
    "\n",
    "\n",
    "#Metoda quad\n",
    "print(\"Metoda quad: \", quad(f,0,1)[0])\n",
    "\n",
    "print(\"\")\n",
    "print(\"Różnice: \\n\")\n",
    "print(\"Prostokątów:\",abs(metp - meta ))\n",
    "print(\"Trapezów:\",abs(mett - meta ))\n",
    "print(\"Simpsona:\",abs(mets - meta ))\n",
    "print(\"Złożona trapezów:\",abs(metzt - meta ))\n",
    "print(\"Złożona Simpsona:\",abs(metzs - meta ))\n",
    "print(\"Romberg: \",abs(wynik - meta ))\n",
    "print(\"Quad:\",abs(quad(f,0,1)[0] - meta ))\n",
    "\n",
    "\n"
   ]
  },
  {
   "cell_type": "markdown",
   "metadata": {},
   "source": [
    "Metoda quad uzyskała najbardziej bliżony wynik do metody analitycznej. Metoda Romberga również daje bardzo zliżony wynik."
   ]
  },
  {
   "cell_type": "markdown",
   "metadata": {},
   "source": [
    "### Zadanie 2"
   ]
  },
  {
   "cell_type": "code",
   "execution_count": 50,
   "metadata": {},
   "outputs": [
    {
     "name": "stdout",
     "output_type": "stream",
     "text": [
      "Wartosć referencyjna: \n",
      " 1.6448536269514722\n",
      "Metoda złożona trapezów:  1.648576416802482 \n",
      "różnica:  0.0037227898510097113\n",
      "Metoda złożona Simpsona:  1.5894771860215031 \n",
      "różnica:  0.05537644092996907\n"
     ]
    }
   ],
   "source": [
    "from scipy.stats import norm\n",
    "\n",
    "def f(t):\n",
    "    return math.e**((-t**2)/2)/math.sqrt(2*math.pi)\n",
    "\n",
    "#metoda złożona trapezów\n",
    "def zloz_trapez(a,b,n,f):\n",
    "    h=(b-a)/n\n",
    "    wynik = 0\n",
    "    for i in range(0,n):\n",
    "        wynik += 1/2*h*(f(a+(i)*h)+f(a+(i+1)*h))    \n",
    "    return wynik\n",
    "\n",
    "#metoda złożona simpsona\n",
    "def zl_Simpson(a,b,n,f):\n",
    "    h=(b-a)/n \n",
    "    wynik=0\n",
    "    y = 0\n",
    "    for i in range(0,n):\n",
    "        x = a +(i+1)*h\n",
    "        y += f(x-h/2)\n",
    "        if(i<n):\n",
    "            wynik += f(x)\n",
    "    wynik = h/6*(f(a)+4*y+2*wynik+f(b))\n",
    "    return wynik\n",
    "\n",
    "def trapez(t):\n",
    "    return zloz_trapez(0,t,10,f)-0.45\n",
    "\n",
    "def simpson(t):\n",
    "    return zl_Simpson(0,t, 10,f)-0.45\n",
    "\n",
    "#wzór Newtona \n",
    "def newton(f, df, x0, t, max):\n",
    "    x = x0 - f(x0)/df(x0)\n",
    "    y = x0\n",
    "    suma=0\n",
    "    while abs(x-y)>t and suma<max:\n",
    "        suma=suma+1\n",
    "        y = x\n",
    "        x = y - f(y)/df(y)\n",
    "    return x\n",
    "\n",
    "mett=newton(trapez, f, 0.5, 1e-5, 10)\n",
    "mets=newton(simpson, f, 0.5, 1e-5, 10)\n",
    "\n",
    "\n",
    "print(\"Wartosć referencyjna: \\n\", norm.ppf(0.95))\n",
    "print (\"Metoda złożona trapezów: \", mett , \"\\nróżnica: \", abs(mett-norm.ppf(0.95)) )\n",
    "print(\"Metoda złożona Simpsona: \", mets, \"\\nróżnica: \", abs(mets-norm.ppf(0.95)))\n"
   ]
  },
  {
   "cell_type": "markdown",
   "metadata": {},
   "source": [
    "### Zadanie 3 "
   ]
  },
  {
   "cell_type": "code",
   "execution_count": 75,
   "metadata": {},
   "outputs": [
    {
     "name": "stdout",
     "output_type": "stream",
     "text": [
      "Droga hamowania:  6.331502525049489\n",
      "Średnia prędkość:  5.2192392676779775\n"
     ]
    }
   ],
   "source": [
    "import scipy.interpolate\n",
    "import numpy as np\n",
    "#interpolacja f. składanymi 3. stopnia\n",
    "t=[0.0,0.5,1.0,2.0,3.0,4.0]\n",
    "a=[-4.5,-4.5,-2.3,-1.0,-0.5,0.0]\n",
    "va=[]\n",
    "vb=[]\n",
    "\n",
    "v = scipy.interpolate.InterpolatedUnivariateSpline(t,a,k=3)\n",
    "for i in t:\n",
    "    va.append(quad(v,0,i)[0])\n",
    "\n",
    "C = va[len(va)-1]\n",
    "for i in va:\n",
    "    vb.append(i-C)\n",
    "\n",
    "v = scipy.interpolate.InterpolatedUnivariateSpline(t,vb,k=3)\n",
    "s = quad(v,0,4)[0]\n",
    "print(\"Droga hamowania: \",s)\n",
    "\n",
    "t = 0.5\n",
    "s1 = quad(v,0,0.5)[0]\n",
    "print(\"Średnia prędkość: \",s1/t)\n",
    "\n"
   ]
  },
  {
   "cell_type": "markdown",
   "metadata": {},
   "source": [
    "### Zadanie 4"
   ]
  },
  {
   "cell_type": "code",
   "execution_count": 77,
   "metadata": {},
   "outputs": [
    {
     "name": "stdout",
     "output_type": "stream",
     "text": [
      "Metoda trapezów:  11.084984534623398\n",
      "Metoda Simpsona:  11.612489864139484\n",
      "Metoda Romberga:  15.825159885482952\n"
     ]
    },
    {
     "data": {
      "image/png": "[encoded data removed]",
      "text/plain": [
       "<Figure size 1440x720 with 1 Axes>"
      ]
     },
     "metadata": {
      "needs_background": "light"
     },
     "output_type": "display_data"
    }
   ],
   "source": [
    "import matplotlib.pyplot as plt\n",
    "import scipy\n",
    "import math\n",
    "import numpy as np\n",
    "import scipy.integrate\n",
    "\n",
    "A = 0.1\n",
    "T = 0.2\n",
    "def f(x):\n",
    "    return A*math.sin(2*math.pi*x/T)\n",
    "    \n",
    "def fprim(x):\n",
    "    return 2*math.pi*A/T*math.cos(2*math.pi*x/T)\n",
    "        \n",
    "def dl_luku(x):\n",
    "    return math.sqrt(1+fprim(x)**2)\n",
    "\n",
    "def zloz_trapez(a,b,n,f):\n",
    "    h=(b-a)/n\n",
    "    wynik = 0\n",
    "    for i in range(0,n):\n",
    "        wynik += 1/2*h*(f(a+(i)*h)+f(a+(i+1)*h))    \n",
    "    return wynik\n",
    "\n",
    "def zl_Simpson(a,b,n,f):\n",
    "    h=(b-a)/n \n",
    "    wynik=0\n",
    "    y = 0\n",
    "    for i in range(0,n):\n",
    "        x = a +(i+1)*h\n",
    "        y += f(x-h/2)\n",
    "        if(i<n):\n",
    "            wynik += f(x)\n",
    "    wynik = h/6*(f(a)+4*y+2*wynik+f(b))\n",
    "    return wynik\n",
    "\n",
    "print(\"Metoda trapezów: \",zloz_trapez(0,4.8,10,dl_luku))\n",
    "print(\"Metoda Simpsona: \",zl_Simpson(0,4.8,10,dl_luku))\n",
    "print(\"Metoda Romberga: \",scipy.integrate.romberg(dl_luku,0,4.8))\n",
    "    \n",
    "\n",
    "trapez=[]\n",
    "simpson=[]\n",
    "a=[]\n",
    "for i in range(1,101):\n",
    "    a.append(i)\n",
    "    trapez.append(zloz_trapez(0,4.8,i,dl_luku))\n",
    "    simpson.append(zl_Simpson(0,4.8,i,dl_luku))\n",
    "\n",
    "plt.figure(figsize=(20,10))\n",
    "plt.scatter(a,trap, label=\"metoda trapezów\")\n",
    "plt.scatter(a,simp, label=\"metoda Simpsona\")\n",
    "plt.xlabel('n')\n",
    "plt.ylabel('l[dm]')\n",
    "plt.legend()\n",
    "plt.grid()\n",
    "plt.show()\n"
   ]
  },
  {
   "cell_type": "markdown",
   "metadata": {},
   "source": [
    "Im większa liczba przedziałów, tym dokładniejsze są metody."
   ]
  },
  {
   "cell_type": "code",
   "execution_count": null,
   "metadata": {},
   "outputs": [],
   "source": []
  }
 ],
 "metadata": {
  "kernelspec": {
   "display_name": "Python 3",
   "language": "python",
   "name": "python3"
  },
  "language_info": {
   "codemirror_mode": {
    "name": "ipython",
    "version": 3
   },
   "file_extension": ".py",
   "mimetype": "text/x-python",
   "name": "python",
   "nbconvert_exporter": "python",
   "pygments_lexer": "ipython3",
   "version": "3.7.0"
  }
 },
 "nbformat": 4,
 "nbformat_minor": 2
}
