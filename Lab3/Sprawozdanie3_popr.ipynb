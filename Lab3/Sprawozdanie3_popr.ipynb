{
 "cells": [
  {
   "cell_type": "markdown",
   "metadata": {},
   "source": [
    "***Zadanie 1.*** "
   ]
  },
  {
   "cell_type": "code",
   "execution_count": 68,
   "metadata": {},
   "outputs": [
    {
     "data": {
      "image/png": "[encoded data removed]",
      "text/plain": [
       "<Figure size 504x504 with 1 Axes>"
      ]
     },
     "metadata": {
      "needs_background": "light"
     },
     "output_type": "display_data"
    }
   ],
   "source": [
    "import numpy as np\n",
    "import scipy\n",
    "import math\n",
    "import matplotlib.pyplot as plt\n",
    "\n",
    "def fun(x):\n",
    "    return math.e**(-2*x)+x**2-1\n",
    "\n",
    "def fun_prim(x):\n",
    "    return 2*x - 2*math.e**(-2*x)\n",
    "\n",
    "def fun_bis(x):\n",
    "    return 4*math.e**(-2*x) + 2\n",
    "\n",
    "x = np.linspace(-0.5,3)\n",
    "\n",
    "plt.subplots(figsize=(7,7))\n",
    "plt.plot(x, fun(x), linewidth=3, label = \"f(x)\")\n",
    "plt.plot(x, fun_prim(x), linewidth=3, label = \"f('x)\")\n",
    "plt.plot(x, fun_bis(x), linewidth=3, label = \"f''(x)\")\n",
    "plt.axhline(y=0, color = 'black')\n",
    "plt.axvline(x=0, color = 'black')\n",
    "plt.legend()\n",
    "plt.xlabel(\"x\")\n",
    "plt.ylabel(\"y\")\n",
    "\n",
    "plt.title(\"Wykres\")\n",
    "plt.grid(True)\n",
    "plt.show()"
   ]
  },
  {
   "cell_type": "markdown",
   "metadata": {},
   "source": [
    "Miejsca zerowe funkcji f to 0 i 0,9. Należy użyć na przykład przedziałów <-0.25;0.2> oraz <0.75;1.25>."
   ]
  },
  {
   "cell_type": "markdown",
   "metadata": {},
   "source": [
    "***Zadanie 2.*** "
   ]
  },
  {
   "cell_type": "code",
   "execution_count": 69,
   "metadata": {},
   "outputs": [
    {
     "name": "stdout",
     "output_type": "stream",
     "text": [
      "(1.1641532182693482e-11, 32)\n",
      "(0.916562583122868, 32)\n"
     ]
    }
   ],
   "source": [
    "def bisekcja(fun,a,b,epsilon,max_it):\n",
    "    mid=(a+b)/2\n",
    "    nr_iteracji=0\n",
    "    while(math.fabs(b-a)>epsilon and nr_iteracji<max_it):\n",
    "        nr_iteracji+=1\n",
    "        mid=(a+b)/2\n",
    "        if(fun(mid)*fun(a)<0):\n",
    "            b=mid   \n",
    "        else:\n",
    "            a=mid\n",
    "    return (a+b)/2, nr_iteracji\n",
    "\n",
    "print(bisekcja(fun,-0.1,0.2,10**(-10),1000))\n",
    "print(bisekcja(fun,0.8,1.1,10**(-10),1000))"
   ]
  },
  {
   "cell_type": "markdown",
   "metadata": {},
   "source": [
    "#### Warunki wystarczające zbieżności meotdy:\n",
    "1. Funkcja $f(x)$ jest ciągła w przedziale domkniętym $[a, b]$\n",
    "2. Na końcach przedziału $[a, b]$ wartości funkcji $f(x)$ przyjmują przeciwne znaki."
   ]
  },
  {
   "cell_type": "code",
   "execution_count": 76,
   "metadata": {},
   "outputs": [
    {
     "name": "stdout",
     "output_type": "stream",
     "text": [
      "Czas wlasnej funkcji: 3.350591659545898e-05    2.7809978061114555e-05\n",
      "Czas funkcji wbudowanej: 1.8904209136962891e-06    1.3597726821899414e-05\n",
      "Metoda bisekcji ma 32 iteracje\n"
     ]
    }
   ],
   "source": [
    "import time as t\n",
    "import scipy.optimize as sc\n",
    "\n",
    "suma1 = 0\n",
    "\n",
    "for i in range(1000):\n",
    "    start1=t.time()\n",
    "    bisekcja(fun,-0.1,0.1,10**(-10),1000)\n",
    "    stop1=t.time()\n",
    "    suma1 += stop1 - start1\n",
    "suma1 = suma1/1000\n",
    "\n",
    "for i in range(1000):\n",
    "    start2=t.time()\n",
    "    bisekcja(fun,0.8,1.1,10**(-10),1000)\n",
    "    stop2=t.time()\n",
    "    suma2 += stop2 - start2\n",
    "suma2 = suma2/1000\n",
    "\n",
    "suma3 = 0\n",
    "for i in range(1000):\n",
    "    start3=t.time()\n",
    "    sc.bisect(fun,-0.1,0.1)\n",
    "    stop3=t.time()\n",
    "    suma3 += stop3-start3\n",
    "suma3 = suma3/1000\n",
    "\n",
    "suma4 = 0\n",
    "for i in range(1000):\n",
    "    start4=t.time()\n",
    "    sc.bisect(fun,0.8,1.1)\n",
    "    stop4=t.time()\n",
    "    suma4 += stop4-start4\n",
    "suma4 = suma4/1000\n",
    "\n",
    "print('Czas wlasnej funkcji:',suma1,'  ',suma2)\n",
    "print('Czas funkcji wbudowanej:',suma3,'  ',suma4)\n",
    "print('Metoda bisekcji ma 32 iteracje')\n"
   ]
  },
  {
   "cell_type": "markdown",
   "metadata": {},
   "source": [
    "***Zadanie 3.*** "
   ]
  },
  {
   "cell_type": "code",
   "execution_count": 71,
   "metadata": {},
   "outputs": [
    {
     "name": "stdout",
     "output_type": "stream",
     "text": [
      "(2.9581990200644026e-17, 4)\n",
      "(0.916562583105698, 4)\n"
     ]
    }
   ],
   "source": [
    "def newton_raphson(fun,fun_prim,x0,epsilon,max_it):\n",
    "    x=x0-fun(x0)/fun_prim(x0)\n",
    "    y=x0\n",
    "    nr_iteracji=0\n",
    "    while(math.fabs(x-y)>epsilon and nr_iteracji<max_it):\n",
    "        y=x\n",
    "        x=y-fun(y)/fun_prim(y)\n",
    "        nr_iteracji+=1\n",
    "    return x, nr_iteracji\n",
    "\n",
    "print(newton_raphson(fun,fun_prim,0.1,10**(-10),1000))\n",
    "print(newton_raphson(fun,fun_prim,0.8,10**(-10),1000))"
   ]
  },
  {
   "cell_type": "markdown",
   "metadata": {},
   "source": [
    "#### Warunkiem wystarczającym zbieżności metody  jest:\n",
    "1. Funkcja $f(x)$ jest ciągła w przedziale domkniętym.\n",
    "2. Pierwsza i druga pochodna funkcji $f(x)$ istnieją i są ciągłe w przedziale domkniętym.\n",
    "3. Na końcach przedziaów  wartości funkcji $f(x)$ przyjmują przeciwne znaki.\n",
    "4. W przedziale nie ma ekstremów lokalnych i punktów przegięcia.\n"
   ]
  },
  {
   "cell_type": "code",
   "execution_count": 72,
   "metadata": {},
   "outputs": [
    {
     "name": "stdout",
     "output_type": "stream",
     "text": [
      "Czas wlasnej funkcji: 9.508132934570312e-07    9.744167327880859e-07\n",
      "Czas funkcji wbudowanej: 1.3419866561889648e-05    5.574941635131836e-06\n",
      "Metoda Newtona ma 4 iteracje\n"
     ]
    }
   ],
   "source": [
    "sum1 = 0\n",
    "for i in range (1000):\n",
    "    start1=t.time()\n",
    "    newton(fun,fun_prim,0.3,10,10)\n",
    "    stop1=t.time()\n",
    "    sum1 += stop1 - start1\n",
    "sum1 = sum1/1000\n",
    "\n",
    "sum2 = 0\n",
    "for i in range(1000):\n",
    "    start2=t.time()\n",
    "    sc.newton(fun,0.3,fun_prim)\n",
    "    stop2=t.time()\n",
    "    sum2 += stop2-start2\n",
    "sum2 = sum2/1000\n",
    "\n",
    "sum3 = 0\n",
    "for i in range(1000):\n",
    "    start3=t.time()\n",
    "    newton(fun,fun_prim,0.7,10,10)\n",
    "    stop3=t.time()\n",
    "    sum3 += stop3 - start3\n",
    "sum3 = sum3/1000\n",
    "\n",
    "\n",
    "sum4 = 0\n",
    "for i in range(1000):\n",
    "    start4=t.time()\n",
    "    sc.newton(fun,0.7,fun_prim)\n",
    "    stop4=t.time()\n",
    "    sum4 += stop4 - start4\n",
    "sum4 = sum4/1000\n",
    "\n",
    "print('Czas wlasnej funkcji:',sum1,'  ',sum3)\n",
    "print('Czas funkcji wbudowanej:',sum2,'  ',sum4)\n",
    "print('Metoda Newtona ma 4 iteracje')"
   ]
  },
  {
   "cell_type": "markdown",
   "metadata": {},
   "source": [
    "***Zadanie 4.*** "
   ]
  },
  {
   "cell_type": "code",
   "execution_count": 73,
   "metadata": {},
   "outputs": [
    {
     "name": "stdout",
     "output_type": "stream",
     "text": [
      "(0.9165625831056982, 6)\n",
      "(3.2756352257099896e-17, 5)\n"
     ]
    }
   ],
   "source": [
    "def sieczna(fun,a,b,epsilon,max_it):\n",
    "    y=a\n",
    "    a=b\n",
    "    b= y -(fun(y)*(b-y))/(fun(b)-fun(y))\n",
    "    nr_iteracji=0\n",
    "    while(math.fabs(b-a)>epsilon and nr_iteracji<max_it):\n",
    "        y=a\n",
    "        a=b\n",
    "        b=y-(fun(y)*(b-y))/(fun(b)-fun(y))\n",
    "        nr_iteracji+=1\n",
    "    return b, nr_iteracji\n",
    "\n",
    "print(sieczna(fun,0.7,1.1,10**(-10),1000))\n",
    "print(sieczna(fun,-0.1,0.1,10**(-10),1000))"
   ]
  },
  {
   "cell_type": "markdown",
   "metadata": {},
   "source": [
    "#### Warunkiem wystarczającym zbieżności metody  jest:\n",
    "1. Funkcja $f(x)$ jest ciągła w przedziale domkniętym.\n",
    "2. Pierwsza i druga pochodna funkcji $f(x)$ istnieją i są ciągłe w przedziale domkniętym.\n",
    "3. Na końcach przedziałów wartości funkcji $f(x)$ przyjmują przeciwne znaki.\n",
    "4. W przedziale nie ma ekstremów lokalnych i punktów przegięcia."
   ]
  },
  {
   "cell_type": "code",
   "execution_count": 74,
   "metadata": {},
   "outputs": [
    {
     "name": "stdout",
     "output_type": "stream",
     "text": [
      "Czas wlasnej funkcji: 7.699966430664062e-06    6.955623626708984e-06\n",
      "Czas wbudowanej funkcji: 7.153034210205078e-06    6.027460098266601e-06\n",
      "Metoda siecznych ma 5 iteracji\n"
     ]
    }
   ],
   "source": [
    "s1 = 0\n",
    "for i in range(1000):\n",
    "    start1=t.time()\n",
    "    sieczna(fun,0.8,1.1,10**(-10),1000)\n",
    "    stop1=t.time()\n",
    "    s1 += stop1 - start1\n",
    "s1 = s1/1000\n",
    "\n",
    "s2 = 0\n",
    "for i in range(1000):\n",
    "    start2=t.time()\n",
    "    sc.newton(fun,-0.1,fun_prim)\n",
    "    stop2=t.time()\n",
    "    s2 += stop2 - start2\n",
    "s2 = s2/1000\n",
    "\n",
    "s3 = 0\n",
    "for i in range(1000):\n",
    "    start3=t.time()\n",
    "    sieczna(fun,-0.1,0.1,10**(-10),1000)\n",
    "    stop3=t.time()\n",
    "    s3 += stop3 - start3\n",
    "s3 = s3/1000\n",
    "\n",
    "s4 = 0\n",
    "for i in range(1000):\n",
    "    start4=t.time()\n",
    "    sc.newton(fun,0.8,fun_prim)\n",
    "    stop4=t.time()\n",
    "    s4 += stop4 - start4\n",
    "s4 = s4/1000\n",
    "\n",
    "print('Czas wlasnej funkcji:',s1,'  ',s3)\n",
    "print('Czas wbudowanej funkcji:',s2,'  ',s4)\n",
    "print('Metoda siecznych ma 5 iteracji')"
   ]
  },
  {
   "cell_type": "markdown",
   "metadata": {},
   "source": [
    "Liczba iteracji:\n",
    "1. Metoda newtona-raphsona (4)\n",
    "2. Metoda siecznych (5)\n",
    "3. Metoda bisekcji (32)."
   ]
  },
  {
   "cell_type": "code",
   "execution_count": 80,
   "metadata": {},
   "outputs": [
    {
     "name": "stdout",
     "output_type": "stream",
     "text": [
      "Metoda bisekcji:  3.350591659545898e-05   2.7809978061114555e-05\n",
      "Metoda stycznych:  9.508132934570312e-07   9.744167327880859e-07\n",
      "Metoda siecznych:  7.699966430664062e-06   6.955623626708984e-06\n"
     ]
    }
   ],
   "source": [
    "print('Metoda bisekcji: ', suma1, ' ', suma2)\n",
    "print('Metoda stycznych: ', sum1, ' ', sum3)\n",
    "print('Metoda siecznych: ', s1, ' ', s3)"
   ]
  },
  {
   "cell_type": "code",
   "execution_count": null,
   "metadata": {},
   "outputs": [],
   "source": []
  }
 ],
 "metadata": {
  "kernelspec": {
   "display_name": "Python 3",
   "language": "python",
   "name": "python3"
  },
  "language_info": {
   "codemirror_mode": {
    "name": "ipython",
    "version": 3
   },
   "file_extension": ".py",
   "mimetype": "text/x-python",
   "name": "python",
   "nbconvert_exporter": "python",
   "pygments_lexer": "ipython3",
   "version": "3.7.0"
  }
 },
 "nbformat": 4,
 "nbformat_minor": 2
}
